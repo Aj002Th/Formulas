{
 "cells": [
  {
   "cell_type": "code",
   "execution_count": 45,
   "metadata": {},
   "outputs": [],
   "source": [
    "import matplotlib\n",
    "from matplotlib.image import imread\n",
    "import matplotlib.pyplot as plt\n",
    "import os\n",
    "\n",
    "file_test = os.path.join(os.curdir, 'data', 'hand', 'test')\n",
    "file_formulas = os.path.join(os.curdir, 'results', 'hand', 'formulas_test', 'hyp_0.txt')\n",
    "\n",
    "def ck_iter(f_test, f_form):\n",
    "    img_lines = None\n",
    "    form_lines = None\n",
    "    with open(os.path.join(f_test, 'match.txt'), 'r') as f:\n",
    "        img_lines = f.readlines()\n",
    "    with open(f_form, 'r') as f:\n",
    "        form_lines = f.readlines()\n",
    "    \n",
    "    for i in range(len(img_lines)):\n",
    "        img_line = img_lines[i].strip().split()[0]\n",
    "        # form = '$' + form_lines[i].strip() +'$'\n",
    "        form = form_lines[i].strip()\n",
    "        img = imread(os.path.join(f_test, 'images', img_line))\n",
    "        \n",
    "        plt.subplot(121)\n",
    "        plt.imshow(img)\n",
    "        plt.subplot(122)\n",
    "        plt.text(0.1, 0.3, form)\n",
    "        plt.show()\n",
    "        yield img_line, i+1\n",
    "\n",
    "Iter = ck_iter(file_test, file_formulas)"
   ]
  },
  {
   "cell_type": "code",
   "execution_count": null,
   "metadata": {},
   "outputs": [],
   "source": [
    "next(Iter)"
   ]
  }
 ],
 "metadata": {
  "kernelspec": {
   "display_name": "Python 3.9.6 64-bit",
   "language": "python",
   "name": "python3"
  },
  "language_info": {
   "codemirror_mode": {
    "name": "ipython",
    "version": 3
   },
   "file_extension": ".py",
   "mimetype": "text/x-python",
   "name": "python",
   "nbconvert_exporter": "python",
   "pygments_lexer": "ipython3",
   "version": "3.9.6"
  },
  "orig_nbformat": 4,
  "vscode": {
   "interpreter": {
    "hash": "67c38899a1900a0a2e0495175f34e84a5f4dee423a0ec0eb9f9daf53bda09b8f"
   }
  }
 },
 "nbformat": 4,
 "nbformat_minor": 2
}
