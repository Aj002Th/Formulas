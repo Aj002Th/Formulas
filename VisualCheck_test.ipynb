{
 "cells": [
  {
   "cell_type": "code",
   "execution_count": 8,
   "metadata": {},
   "outputs": [],
   "source": [
    "from matplotlib.image import imread\n",
    "import matplotlib.pyplot as plt\n",
    "import os\n",
    "import random\n",
    "\n",
    "datasets = os.path.join(os.curdir, 'datasets_no_test')\n",
    "# 配置多个文本预测文本路径\n",
    "file_formulas1 = os.path.join(os.curdir, 'latex_ocr', 'results', 'hand', 'formulas_test', 'hyp_0.txt')\n",
    "file_formulas2 = os.path.join(os.curdir, 'image-to-latex', 'outputs', 'test_predictions.txt')\n",
    "\n",
    "\n",
    "\n",
    "def ck_iter(*f_form, path_datasets, shuffle_=False):\n",
    "    img_lines = None\n",
    "    forms_lines = []\n",
    "    with open(os.path.join(path_datasets, 'test_ids.txt'), 'r') as f:\n",
    "        img_lines = f.readlines()\n",
    "    for _f_form in f_form:\n",
    "        with open(_f_form, 'r') as f:\n",
    "            forms_lines.append(f.readlines())\n",
    "    ids = [i for i in range(len(img_lines))]\n",
    "    if shuffle_:\n",
    "        random.shuffle(ids)\n",
    "    \n",
    "    for i in ids:\n",
    "        img_line = img_lines[i].strip() + '.png'\n",
    "        forms = [formlize(form_line[i]) for form_line in forms_lines]\n",
    "        img = imread(os.path.join(path_datasets, 'test', 'images', img_line))\n",
    "        \n",
    "        plt.subplot(1+len(forms), 1, 1)\n",
    "        plt.axis('off')\n",
    "        plt.imshow(img)\n",
    "        for j in range(len(forms)):\n",
    "            plt.subplot(1+len(forms), 1, j+2)\n",
    "            plt.axis('off')\n",
    "            plt.text(0.1, 0.3, forms[j])\n",
    "        plt.show()\n",
    "        yield img_line, i+1\n",
    "\n",
    "Iter = ck_iter(file_formulas1, file_formulas2, path_datasets=datasets, shuffle_=True)"
   ]
  },
  {
   "cell_type": "code",
   "execution_count": null,
   "metadata": {},
   "outputs": [],
   "source": [
    "def formlize(txt):\n",
    "    return txt # 直接看文本\n",
    "    return '$' + txt + '$' # 看Latex公式\n",
    "\n",
    "next(Iter)"
   ]
  }
 ],
 "metadata": {
  "kernelspec": {
   "display_name": "Python 3 (ipykernel)",
   "language": "python",
   "name": "python3"
  },
  "language_info": {
   "codemirror_mode": {
    "name": "ipython",
    "version": 3
   },
   "file_extension": ".py",
   "mimetype": "text/x-python",
   "name": "python",
   "nbconvert_exporter": "python",
   "pygments_lexer": "ipython3",
   "version": "3.9.6"
  },
  "vscode": {
   "interpreter": {
    "hash": "67c38899a1900a0a2e0495175f34e84a5f4dee423a0ec0eb9f9daf53bda09b8f"
   }
  }
 },
 "nbformat": 4,
 "nbformat_minor": 4
}
